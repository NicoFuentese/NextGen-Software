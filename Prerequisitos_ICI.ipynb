{
  "nbformat": 4,
  "nbformat_minor": 0,
  "metadata": {
    "colab": {
      "provenance": [],
      "authorship_tag": "ABX9TyOkNfVsut1DnHP3k/iq8aNC",
      "include_colab_link": true
    },
    "kernelspec": {
      "name": "python3",
      "display_name": "Python 3"
    },
    "language_info": {
      "name": "python"
    }
  },
  "cells": [
    {
      "cell_type": "markdown",
      "metadata": {
        "id": "view-in-github",
        "colab_type": "text"
      },
      "source": [
        "<a href=\"https://colab.research.google.com/github/NicoFuentese/NextGen-Software/blob/main/Prerequisitos_ICI.ipynb\" target=\"_parent\"><img src=\"https://colab.research.google.com/assets/colab-badge.svg\" alt=\"Open In Colab\"/></a>"
      ]
    },
    {
      "cell_type": "code",
      "execution_count": null,
      "metadata": {
        "colab": {
          "base_uri": "https://localhost:8080/",
          "height": 36
        },
        "id": "SVef--hxz9PD",
        "outputId": "7e91743f-6efd-4f57-aeda-8b1f959b3204"
      },
      "outputs": [
        {
          "output_type": "execute_result",
          "data": {
            "text/plain": [
              "'\\nelctivos = tuple(\\n    [\\n\\n    ]\\n)\\n'"
            ],
            "application/vnd.google.colaboratory.intrinsic+json": {
              "type": "string"
            }
          },
          "metadata": {},
          "execution_count": 4
        }
      ],
      "source": [
        "\"\"\"\n",
        "BASE DE DATOS (RAMOS)\n",
        "FUENTE: NAVEGADOR ACADEMICO PUCV\n",
        "\n",
        "FORMATO\n",
        "\n",
        "( (PREREQUISITOS) , (CODIGO ASIGNATURA) , (NOMBRE ASIGNATURA), (SEMESTRE))\n",
        "\n",
        "\"\"\"\n",
        "\n",
        "asignaturas_obligatorias = tuple(\n",
        "    [\n",
        "        #PRIMER SEMESTRE\n",
        "        ((), (\"ICI1241\"), (\"FUNDAMENTOS DE ALGORITMOS\"), 1),\n",
        "        ((), (\"ICI1243\"), (\"INTRODUCCION A LA INGENIERIA INFORMATICA\"), 1),\n",
        "        ((), (\"ICI1458\"), (\"BIENESTAR Y APRENDIZAJE UNIVERSITARIO\"), 1),\n",
        "        ((), (\"DAV100\"), (\"INTRODUCCION A LA VIDA UNIVERSITARIA\"), 1),\n",
        "        ((), (\"MAT1001\"), (\"FUNDAMENTOS DE MATEMATICAS PARA INGENIERIA\"), 1),\n",
        "        # SEGUNDO SEMESTRE\n",
        "        ((), (\"FIN100-14\"), (\"DESARROLLO INTEGRAL Y COMUNICACION PARA INGENIERIA\"), 2),\n",
        "        ((\"ICI1241\"), (\"ICI1242\"), (\"FUNDAMENTOS DE PROGRAMACION\"), 2),\n",
        "        ((\"MAT1001\"), (\"MAT1002\"), (\"CALCULO DIFERENCIAL E INTEGRAL\"), 2),\n",
        "        ((\"MAT1001\"), (\"MAT1004\"), (\"ALGEBRA LINEAL\"), 2),\n",
        "        # TERCER SEMESTRE\n",
        "        ((\"MAT1001\"), (\"FIS1002\"), (\"FISICA PARA INGENIERIA\"), 3),\n",
        "        ((\"MAT1002\"), (\"ICI2145\"), (\"ANALISIS INTELIGENTE DE DATOS\"), 3),\n",
        "        ((\"ICI1242\"), (\"ICI2240\"), (\"ESTRUCTURA DE DATOS\"), 3),\n",
        "        ((\"MAT1002\"), (\"MAT1003\"), (\"CALCULO EN VARIAS VARIABLES\"), 3),\n",
        "        #CUARTO SEMESTRE\n",
        "        ((\"FIS1002\"), (\"FIS2120\"), (\"FISICA ELECTROMAGNETISMO\"), 4),\n",
        "        ((\"ICI1242\"), (\"ICI2141\"), (\"METODOS NUMERICOS\"), 4),\n",
        "        ((\"ICI2240\"), (\"ICI2241\"), (\"PROGRAMACION AVANZADA\"), 4),\n",
        "        ((), (\"ICI2242\"), (\"ANALISIS Y DISEÑO DE ALGORITMOS\"), 4),\n",
        "        ((), (\"ING9001\"), (\"INGLES 1\"), 4),\n",
        "        #QUINTO SEMESTRE\n",
        "        ((\"FIS1002\"), (\"FIS3149\"), (\"FISICA MODERNA\"), 5),\n",
        "        ((\"ICI1242\"), (\"ICI3240\"), (\"BASE DE DATOS\"), 5),\n",
        "        ((\"ICI2242\"), (\"ICI3244\"), (\"INTELIGENCIA ARTIFICIAL\"), 5),\n",
        "        ((\"ICI2241\"), (\"ICI3245\"), (\"AUTOMATAS Y COMPILADORES\"), 5),\n",
        "        ((\"ICI1242\"), (\"ICI3344\"), (\"HARDWARE Y SISTEMAS OPERATIVOS\"), 5),\n",
        "        ((\"ING9001\"), (\"ING9002\"), (\"INGLES 2\"), 5),\n",
        "        #SEXTO SEMESTRE\n",
        "        ((), (\"ICA4121\"), (\"ADMINISTRACION DE EMPRESAS\"), 6),\n",
        "        ((), (\"ICI3150\"), (\"CIENCIA Y TECNOLOGIA\"), 6),\n",
        "        ((\"MAT1003\"), (\"ICI3170\"), (\"ESTADISTICA COMPUTACIONAL\"), 6),\n",
        "        ((\"ICI3240\"), (\"ICI3246\"), (\"MODELAMIENTO DE SOFTWARE\"), 6),\n",
        "        ((\"ICI3245\"), (\"ICI3343\"), (\"REDES DE COMPUTADORES\"), 6),\n",
        "        ((\"ING9002\"), (\"ING9003\"), (\"INGLES 3\"), 6),\n",
        "        #SEPTIMO SEMESTRE\n",
        "        ((\"ICI3343\"), (\"ICI4150\"), (\"ROBOTICA Y SISTEMAS AUTONOMOS\"), 7),\n",
        "        ((), (\"ICI4151\"), (\"OPTIMIZACION\"), 7),\n",
        "        ((\"ICI3246\"), (\"ICI4244\"), (\"INGENIERIA DE SOFTWARE\"), 7),\n",
        "        ((\"ICI3246\"), (\"ICI4247\"), (\"INGENIERIA WEB Y MOVIL\"), 7),\n",
        "        ((\"ICI3343\"), (\"ICI4344\"), (\"COMPUTACION PARALELA Y DISTRIBUIDA\"), 7),\n",
        "        ((\"ING9003\"), (\"ING9004\"), (\"INGLES 4\"), 7),\n",
        "        #OCTAVO SEMESTRE\n",
        "        ((\"ICA4121\"), (\"ICA4161\"), (\"ECONOMIA Y FINANZAS\"), 8),\n",
        "        ((\"ICI4247\"), (\"ICI4248\"), (\"INGENIERIA DE REQUERIMIENTOS\"), 8),\n",
        "        ((\"ICI3343\"), (\"ICI4370\"), (\"CIBERSEGURIDAD\"), 8),\n",
        "        ((\"ICI3240\"), (\"ICI4541\"), (\"TALLER DE BASE DE DATOS\"), 8),\n",
        "        #NOVENO SEMESTRE\n",
        "        ((\"ICI4248\"), (\"ICI5247\"), (\"EXPERIENCIA DE USUARIO\"), 9),\n",
        "        ((), (\"ICI5441\"), (\"ADMINISTRACION DE PROYECTOS INFORMATICOS\"), 9),\n",
        "        ((), (\"ICI5442\"), (\"TECNOLOGIAS EMERGENTES\"), 9),\n",
        "        ((), (\"ICI5475\"), (\"NEGOCIOS, INNOVACION Y EMPRENDIMIENTO\"), 9),\n",
        "        ((\"ICI4244\"), (\"ICI5545\"), (\"TALLER DE INGENIERIA DE SOFTWARE\"), 9),\n",
        "        #DECIMO SEMESTRE\n",
        "        ((), (\"ICI5345\"), (\"LEGISLACION ETICA Y TECNOLOGICA\"), 10),\n",
        "        ((\"ICI5441\"), (\"ICI5444\"), (\"TALLER DE FORMULACION DE PROYECTOS INFORMATICOS\"), 10),\n",
        "        ((), (\"ICI5476\"), (\"TALLER DE LIDERAZGO Y TRABAJO EN EQUIPO\"), 10),\n",
        "        ((\"ICA4161\", \"ICI4248\", \"ICI4541\", \"ICI4370\", \"ICI5441\", \"ICI5545\", \"ICI5442 \",\n",
        "          \"ICI5247\", \"ICI5475 \", \"ICI4151 \", \"ICI3170 \", \"ICI3344 \", \"ICI3244\"),\n",
        "           (\"ICI5541\"), (\"SEMINARIO DE TITULO\"), 10),\n",
        "        #ONCEAVO SEMESTRE\n",
        "        ((\"ICI5541\"), (\"ICI6541\"), (\"PROYECTO DE TITULO\t\"), 11)\n",
        "    ]\n",
        ")\n",
        "\n",
        "\"\"\"\n",
        "elctivos = tuple(\n",
        "    [\n",
        "\n",
        "    ]\n",
        ")\n",
        "\"\"\"\n",
        "#faltan los Formacion fundamental y los electivos profesionales"
      ]
    },
    {
      "cell_type": "code",
      "source": [
        "#funciones para recursividad\n",
        "\n",
        "\"\"\"\n",
        "Devuelve una tupla con las asignaturas sin su paralelo, funcional para\n",
        "copiar y pegar desde el inicio del navegador academico.\n",
        "\"\"\"\n",
        "def quitarParalelo (NRC_asignaturasAnadir):\n",
        "  listaNRC = []\n",
        "  for nrc in NRC_asignaturasAnadir:\n",
        "    nrcNuevo = \"\"\n",
        "    for caracter in nrc:\n",
        "      if (caracter == \"-\"):\n",
        "        break\n",
        "      nrcNuevo += caracter\n",
        "    listaNRC.append(nrcNuevo)\n",
        "  return tuple(listaNRC)\n",
        "\n",
        "\"\"\"\n",
        "Entrega tupla de ramos par apoder tomar segun tu avance curricular.\n",
        "\"\"\"\n",
        "def AsignaturasParaInscribir (NRC_aprobados, ramos_carrera):\n",
        "  ramos_a_dar = []\n",
        "  for asignatura in ramos_carrera:\n",
        "    for nrc in NRC_aprobados:\n",
        "      if (nrc in asignatura[0]) and (asignatura[1] not in NRC_aprobados):\n",
        "        ramos_a_dar.append(asignatura[2])\n",
        "  return tuple(ramos_a_dar)\n",
        "\n"
      ],
      "metadata": {
        "colab": {
          "base_uri": "https://localhost:8080/"
        },
        "id": "r9UbhC8QSOqM",
        "outputId": "3709d6e6-71dd-4d26-ca07-47fc16ce16a1"
      },
      "execution_count": null,
      "outputs": [
        {
          "output_type": "stream",
          "name": "stdout",
          "text": [
            "('FUNDAMENTOS DE PROGRAMACION', 'ANALISIS INTELIGENTE DE DATOS', 'FISICA MODERNA', 'INGLES 2', 'ESTADISTICA COMPUTACIONAL')\n"
          ]
        }
      ]
    },
    {
      "cell_type": "code",
      "source": [
        "ramosAprobados = (\"ICI1243-1\", \"DAV100-227-1\", \"ICI1241-1\", \"ICI1458-1\", \"MAT1001-25\",\n",
        "                  \"MAT1002\", \"MAT1004\", \"FIS1002\", \"MAT1003\", \"FIS2120\", \"ING9001\")\n",
        "\n",
        "ramosAprobados = quitarParalelo(ramosAprobados)\n",
        "print(ramosAprobados)\n",
        "\n"
      ],
      "metadata": {
        "colab": {
          "base_uri": "https://localhost:8080/"
        },
        "id": "c43OYM-INcSU",
        "outputId": "0b4e9cb3-2d33-4dda-926c-8427d2480c24"
      },
      "execution_count": null,
      "outputs": [
        {
          "output_type": "stream",
          "name": "stdout",
          "text": [
            "('ICI1243', 'DAV100', 'ICI1241', 'ICI1458', 'MAT1001', 'MAT1002', 'MAT1004', 'FIS1002', 'MAT1003', 'FIS2120', 'ING9001')\n"
          ]
        }
      ]
    },
    {
      "cell_type": "code",
      "source": [
        "#que puedo tomar?\n",
        "print(AsignaturasParaInscribir(ramosAprobados, asignaturas_obligatorias))"
      ],
      "metadata": {
        "colab": {
          "base_uri": "https://localhost:8080/"
        },
        "id": "jRj_1BezPcd-",
        "outputId": "42bbf892-74df-4306-a110-da592e87407f"
      },
      "execution_count": null,
      "outputs": [
        {
          "output_type": "stream",
          "name": "stdout",
          "text": [
            "('FUNDAMENTOS DE PROGRAMACION', 'ANALISIS INTELIGENTE DE DATOS', 'FISICA MODERNA', 'INGLES 2', 'ESTADISTICA COMPUTACIONAL')\n"
          ]
        }
      ]
    },
    {
      "cell_type": "code",
      "source": [],
      "metadata": {
        "id": "dYyZg87oR9gp"
      },
      "execution_count": null,
      "outputs": []
    }
  ]
}