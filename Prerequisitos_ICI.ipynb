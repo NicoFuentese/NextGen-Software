{
  "nbformat": 4,
  "nbformat_minor": 0,
  "metadata": {
    "colab": {
      "provenance": [],
      "authorship_tag": "ABX9TyPVDXsfH+f1qZMwWZqoxWp5",
      "include_colab_link": true
    },
    "kernelspec": {
      "name": "python3",
      "display_name": "Python 3"
    },
    "language_info": {
      "name": "python"
    }
  },
  "cells": [
    {
      "cell_type": "markdown",
      "metadata": {
        "id": "view-in-github",
        "colab_type": "text"
      },
      "source": [
        "<a href=\"https://colab.research.google.com/github/NicoFuentese/NextGen-Software/blob/main/Prerequisitos_ICI.ipynb\" target=\"_parent\"><img src=\"https://colab.research.google.com/assets/colab-badge.svg\" alt=\"Open In Colab\"/></a>"
      ]
    },
    {
      "cell_type": "code",
      "execution_count": 1,
      "metadata": {
        "colab": {
          "base_uri": "https://localhost:8080/",
          "height": 36
        },
        "id": "SVef--hxz9PD",
        "outputId": "7791a6f7-af59-44fd-f9c0-d2ab5b261c51"
      },
      "outputs": [
        {
          "output_type": "execute_result",
          "data": {
            "text/plain": [
              "'\\nelctivos = tuple(\\n    [\\n\\n    ]\\n)\\n'"
            ],
            "application/vnd.google.colaboratory.intrinsic+json": {
              "type": "string"
            }
          },
          "metadata": {},
          "execution_count": 1
        }
      ],
      "source": [
        "\"\"\"\n",
        "BASE DE DATOS (RAMOS)\n",
        "FUENTE: NAVEGADOR ACADEMICO PUCV\n",
        "\n",
        "FORMATO\n",
        "\n",
        "( (PREREQUISITOS) , (CODIGO ASIGNATURA) , (NOMBRE ASIGNATURA), (SEMESTRE))\n",
        "\n",
        "\"\"\"\n",
        "\n",
        "asignaturas_obligatorias = tuple(\n",
        "    [\n",
        "        #PRIMER SEMESTRE\n",
        "        ((), (\"ICI1241\"), (\"FUNDAMENTOS DE ALGORITMOS\"), 1),\n",
        "        ((), (\"ICI1243\"), (\"INTRODUCCION A LA INGENIERIA INFORMATICA\"), 1),\n",
        "        ((), (\"ICI1458\"), (\"BIENESTAR Y APRENDIZAJE UNIVERSITARIO\"), 1),\n",
        "        ((), (\"DAV100\"), (\"INTRODUCCION A LA VIDA UNIVERSITARIA\"), 1),\n",
        "        ((), (\"MAT1001\"), (\"FUNDAMENTOS DE MATEMATICAS PARA INGENIERIA\"), 1),\n",
        "        # SEGUNDO SEMESTRE\n",
        "        ((), (\"FIN100-14\"), (\"DESARROLLO INTEGRAL Y COMUNICACION PARA INGENIERIA\"), 2),\n",
        "        ((\"ICI1241\"), (\"ICI1242\"), (\"FUNDAMENTOS DE PROGRAMACION\"), 2),\n",
        "        ((\"MAT1001\"), (\"MAT1002\"), (\"CALCULO DIFERENCIAL E INTEGRAL\"), 2),\n",
        "        ((\"MAT1001\"), (\"MAT1004\"), (\"ALGEBRA LINEAL\"), 2),\n",
        "        # TERCER SEMESTRE\n",
        "        ((\"MAT1001\"), (\"FIS1002\"), (\"FISICA PARA INGENIERIA\"), 3),\n",
        "        ((\"MAT1002\"), (\"ICI2145\"), (\"ANALISIS INTELIGENTE DE DATOS\"), 3),\n",
        "        ((\"ICI1242\"), (\"ICI2240\"), (\"ESTRUCTURA DE DATOS\"), 3),\n",
        "        ((\"MAT1002\"), (\"MAT1003\"), (\"CALCULO EN VARIAS VARIABLES\"), 3),\n",
        "        #CUARTO SEMESTRE\n",
        "        ((\"FIS1002\"), (\"FIS2120\"), (\"FISICA ELECTROMAGNETISMO\"), 4),\n",
        "        ((\"ICI1242\"), (\"ICI2141\"), (\"METODOS NUMERICOS\"), 4),\n",
        "        ((\"ICI2240\"), (\"ICI2241\"), (\"PROGRAMACION AVANZADA\"), 4),\n",
        "        ((), (\"ICI2242\"), (\"ANALISIS Y DISEÑO DE ALGORITMOS\"), 4),\n",
        "        ((), (\"ING9001\"), (\"INGLES 1\"), 4),\n",
        "        #QUINTO SEMESTRE\n",
        "        ((\"FIS1002\"), (\"FIS3149\"), (\"FISICA MODERNA\"), 5),\n",
        "        ((\"ICI1242\"), (\"ICI3240\"), (\"BASE DE DATOS\"), 5),\n",
        "        ((\"ICI2242\"), (\"ICI3244\"), (\"INTELIGENCIA ARTIFICIAL\"), 5),\n",
        "        ((\"ICI2241\"), (\"ICI3245\"), (\"AUTOMATAS Y COMPILADORES\"), 5),\n",
        "        ((\"ICI1242\"), (\"ICI3344\"), (\"HARDWARE Y SISTEMAS OPERATIVOS\"), 5),\n",
        "        ((\"ING9001\"), (\"ING9002\"), (\"INGLES 2\"), 5),\n",
        "        #SEXTO SEMESTRE\n",
        "        ((), (\"ICA4121\"), (\"ADMINISTRACION DE EMPRESAS\"), 6),\n",
        "        ((), (\"ICI3150\"), (\"CIENCIA Y TECNOLOGIA\"), 6),\n",
        "        ((\"MAT1003\"), (\"ICI3170\"), (\"ESTADISTICA COMPUTACIONAL\"), 6),\n",
        "        ((\"ICI3240\"), (\"ICI3246\"), (\"MODELAMIENTO DE SOFTWARE\"), 6),\n",
        "        ((\"ICI3245\"), (\"ICI3343\"), (\"REDES DE COMPUTADORES\"), 6),\n",
        "        ((\"ING9002\"), (\"ING9003\"), (\"INGLES 3\"), 6),\n",
        "        #SEPTIMO SEMESTRE\n",
        "        ((\"ICI3343\"), (\"ICI4150\"), (\"ROBOTICA Y SISTEMAS AUTONOMOS\"), 7),\n",
        "        ((), (\"ICI4151\"), (\"OPTIMIZACION\"), 7),\n",
        "        ((\"ICI3246\"), (\"ICI4244\"), (\"INGENIERIA DE SOFTWARE\"), 7),\n",
        "        ((\"ICI3246\"), (\"ICI4247\"), (\"INGENIERIA WEB Y MOVIL\"), 7),\n",
        "        ((\"ICI3343\"), (\"ICI4344\"), (\"COMPUTACION PARALELA Y DISTRIBUIDA\"), 7),\n",
        "        ((\"ING9003\"), (\"ING9004\"), (\"INGLES 4\"), 7),\n",
        "        #OCTAVO SEMESTRE\n",
        "        ((\"ICA4121\"), (\"ICA4161\"), (\"ECONOMIA Y FINANZAS\"), 8),\n",
        "        ((\"ICI4247\"), (\"ICI4248\"), (\"INGENIERIA DE REQUERIMIENTOS\"), 8),\n",
        "        ((\"ICI3343\"), (\"ICI4370\"), (\"CIBERSEGURIDAD\"), 8),\n",
        "        ((\"ICI3240\"), (\"ICI4541\"), (\"TALLER DE BASE DE DATOS\"), 8),\n",
        "        #NOVENO SEMESTRE\n",
        "        ((\"ICI4248\"), (\"ICI5247\"), (\"EXPERIENCIA DE USUARIO\"), 9),\n",
        "        ((), (\"ICI5441\"), (\"ADMINISTRACION DE PROYECTOS INFORMATICOS\"), 9),\n",
        "        ((), (\"ICI5442\"), (\"TECNOLOGIAS EMERGENTES\"), 9),\n",
        "        ((), (\"ICI5475\"), (\"NEGOCIOS, INNOVACION Y EMPRENDIMIENTO\"), 9),\n",
        "        ((\"ICI4244\"), (\"ICI5545\"), (\"TALLER DE INGENIERIA DE SOFTWARE\"), 9),\n",
        "        #DECIMO SEMESTRE\n",
        "        ((), (\"ICI5345\"), (\"LEGISLACION ETICA Y TECNOLOGICA\"), 10),\n",
        "        ((\"ICI5441\"), (\"ICI5444\"), (\"TALLER DE FORMULACION DE PROYECTOS INFORMATICOS\"), 10),\n",
        "        ((), (\"ICI5476\"), (\"TALLER DE LIDERAZGO Y TRABAJO EN EQUIPO\"), 10),\n",
        "        ((\"ICA4161\", \"ICI4248\", \"ICI4541\", \"ICI4370\", \"ICI5441\", \"ICI5545\", \"ICI5442 \",\n",
        "          \"ICI5247\", \"ICI5475 \", \"ICI4151 \", \"ICI3170 \", \"ICI3344 \", \"ICI3244\"),\n",
        "           (\"ICI5541\"), (\"SEMINARIO DE TITULO\"), 10),\n",
        "        #ONCEAVO SEMESTRE\n",
        "        ((\"ICI5541\"), (\"ICI6541\"), (\"PROYECTO DE TITULO\t\"), 11)\n",
        "    ]\n",
        ")\n",
        "\n",
        "\"\"\"\n",
        "elctivos = tuple(\n",
        "    [\n",
        "\n",
        "    ]\n",
        ")\n",
        "\"\"\"\n",
        "#faltan los Formacion fundamental y los electivos profesionales"
      ]
    },
    {
      "cell_type": "code",
      "source": [
        "#funciones para recursividad\n",
        "\n",
        "\"\"\"\n",
        "Devuelve una lista con las asignaturas a anadir con el formato MAYUSCULA y\n",
        "sin esppacios ni caracteres que no sen digitos o alfabeticos.\n",
        "\"\"\"\n",
        "def formatoNRC (nrcs): #nrcs = lista de nrc\n",
        "  listaNRC = []\n",
        "  for asignatura in nrcs:\n",
        "    nrcArreglado = \"\"\n",
        "    for caracter in asignatura:\n",
        "      if (caracter.isalnum()):\n",
        "        if (caracter.isupper() == False):\n",
        "          nrcArreglado += caracter.upper()\n",
        "        else:\n",
        "          nrcArreglado += caracter\n",
        "    listaNRC.append(nrcArreglado)\n",
        "  return listaNRC\n",
        "\n",
        "\"\"\"\n",
        "Recibe una lista de NRC de cualquier formato y elimina el codigo de los paralelos\n",
        "de las asignaturas, ademas devuelve la lista con el formato correcto definido\n",
        "al principio.\n",
        "\"\"\"\n",
        "def quitarParalelo (nrcs): #lista de nrcs con paralelo\n",
        "  listaNRC = []\n",
        "  for asignatura in nrcs:\n",
        "    nrcArreglado = \"\"\n",
        "    for caracter in asignatura:\n",
        "      if (caracter.isalnum() == False):\n",
        "        break\n",
        "      nrcArreglado += caracter\n",
        "    listaNRC.append(nrcArreglado)\n",
        "    listaNRC = formatoNRC(listaNRC)\n",
        "  return listaNRC\n",
        "\n",
        "\n",
        "\"\"\"\n",
        "Entrega tupla de ramos par apoder tomar segun tu avance curricular.\n",
        "\"\"\"\n",
        "def AsignaturasParaInscribir (NRC_aprobados, ramos_carrera):\n",
        "  ramos_a_dar = []\n",
        "  for asignatura in ramos_carrera:\n",
        "    for nrc in NRC_aprobados:\n",
        "      if (nrc in asignatura[0]) and (asignatura[1] not in NRC_aprobados):\n",
        "        ramos_a_dar.append(asignatura[2])\n",
        "  return tuple(ramos_a_dar)\n",
        "\n",
        "\"\"\"\n",
        "Devuelve la tupla de la asignatura segun el plan de estudios y el nrc (str)\n",
        "que desee buscar.\n",
        "\"\"\"\n",
        "def buscarAsignatura (nrc, ramos_carrera):\n",
        "  if(nrc.isalnum() == False) or (nrc.isupper() == False):\n",
        "    listaAux = []\n",
        "    listaAux.append(ramo)\n",
        "    nrc = str(formatoNRC(listaAux)[0])\n",
        "  for asignatura in ramos_carrera:\n",
        "    if (asignatura[1] == nrc):\n",
        "      return asignatura\n"
      ],
      "metadata": {
        "id": "r9UbhC8QSOqM"
      },
      "execution_count": 155,
      "outputs": []
    },
    {
      "cell_type": "code",
      "source": [
        "ramosAprobados = [\"icI1243-1\", \"dav100-227-1\", \"IcI1241-1\", \"ICI1458-1\", \"MaT1001-25\",\n",
        "                  \"MAT1002\", \"MAT1004\", \"FIS1002\", \"MAT1003\", \"FIS2120\", \"inG9001\"]\n",
        "ramosAprobados = quitarParalelo(ramosAprobados)\n",
        "print(ramosAprobados)\n",
        "\n"
      ],
      "metadata": {
        "colab": {
          "base_uri": "https://localhost:8080/"
        },
        "id": "c43OYM-INcSU",
        "outputId": "914a9b2b-1c37-41a4-8ed1-4d837d6cdef8"
      },
      "execution_count": 152,
      "outputs": [
        {
          "output_type": "stream",
          "name": "stdout",
          "text": [
            "['ICI1243', 'DAV100', 'ICI1241', 'ICI1458', 'MAT1001', 'MAT1002', 'MAT1004', 'FIS1002', 'MAT1003', 'FIS2120', 'ING9001']\n"
          ]
        }
      ]
    },
    {
      "cell_type": "code",
      "source": [
        "#que puedo tomar?\n",
        "print(AsignaturasParaInscribir(ramosAprobados, asignaturas_obligatorias))"
      ],
      "metadata": {
        "colab": {
          "base_uri": "https://localhost:8080/"
        },
        "id": "jRj_1BezPcd-",
        "outputId": "2d587c19-beaf-4fff-b04d-dca48499982e"
      },
      "execution_count": 153,
      "outputs": [
        {
          "output_type": "stream",
          "name": "stdout",
          "text": [
            "('FUNDAMENTOS DE PROGRAMACION', 'ANALISIS INTELIGENTE DE DATOS', 'FISICA MODERNA', 'INGLES 2', 'ESTADISTICA COMPUTACIONAL')\n"
          ]
        }
      ]
    },
    {
      "cell_type": "code",
      "source": [
        "#buscar el ramo ICI3170\n",
        "ramo = \"ici-3170\"\n",
        "print(buscarAsignatura(ramo, asignaturas_obligatorias))\n",
        "\n"
      ],
      "metadata": {
        "id": "dYyZg87oR9gp",
        "colab": {
          "base_uri": "https://localhost:8080/"
        },
        "outputId": "ee212860-c4e0-4e19-b08f-3359c116d15f"
      },
      "execution_count": 158,
      "outputs": [
        {
          "output_type": "stream",
          "name": "stdout",
          "text": [
            "('MAT1003', 'ICI3170', 'ESTADISTICA COMPUTACIONAL', 6)\n"
          ]
        }
      ]
    }
  ]
}